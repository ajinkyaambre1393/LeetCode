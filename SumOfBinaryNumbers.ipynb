{
 "cells": [
  {
   "cell_type": "code",
   "execution_count": 1,
   "metadata": {},
   "outputs": [
    {
     "name": "stdout",
     "output_type": "stream",
     "text": [
      "Enter first binary number\n",
      "111\n",
      "Enter second binar number\n",
      "111\n"
     ]
    }
   ],
   "source": [
    "###Given two binary strings, return their sum (also a binary string).\n",
    "inputA = input(\"Enter first binary number\\n\")\n",
    "inputB = input(\"Enter second binar number\\n\")"
   ]
  },
  {
   "cell_type": "code",
   "execution_count": 2,
   "metadata": {},
   "outputs": [
    {
     "name": "stdout",
     "output_type": "stream",
     "text": [
      "The addition of two binary numbers is: 1110\n"
     ]
    }
   ],
   "source": [
    "answer = bin(int(inputA,2) + int(inputB,2))\n",
    "answer = answer[2:]\n",
    "print(\"The addition of two binary numbers is:\", str(answer))"
   ]
  }
 ],
 "metadata": {
  "kernelspec": {
   "display_name": "Python 3",
   "language": "python",
   "name": "python3"
  },
  "language_info": {
   "codemirror_mode": {
    "name": "ipython",
    "version": 3
   },
   "file_extension": ".py",
   "mimetype": "text/x-python",
   "name": "python",
   "nbconvert_exporter": "python",
   "pygments_lexer": "ipython3",
   "version": "3.7.3"
  }
 },
 "nbformat": 4,
 "nbformat_minor": 2
}
