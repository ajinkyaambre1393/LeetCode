{
 "cells": [
  {
   "cell_type": "code",
   "execution_count": 1,
   "metadata": {},
   "outputs": [],
   "source": [
    "###Given an integer array nums, find the contiguous subarray (containing at least one number) which has the largest sum and return its sum.\n",
    "\n",
    "def MaximumSubarray(mylist):\n",
    "  global_max = 0\n",
    "  indices = []\n",
    "  for i in range(len(mylist)+1):\n",
    "    for j in range(len(mylist)+1):\n",
    "      if mylist[i:j]:\n",
    "        current_max = sum(mylist[i:j])\n",
    "        print(current_max, mylist[i:j])\n",
    "        if current_max > global_max:\n",
    "            global_max = current_max\n",
    "            indices.append((i, j-1))\n",
    "  return global_max, indices.pop()\n"
   ]
  },
  {
   "cell_type": "code",
   "execution_count": 2,
   "metadata": {},
   "outputs": [
    {
     "name": "stdout",
     "output_type": "stream",
     "text": [
      "-2 [-2]\n",
      "-1 [-2, 1]\n",
      "-4 [-2, 1, -3]\n",
      "0 [-2, 1, -3, 4]\n",
      "-1 [-2, 1, -3, 4, -1]\n",
      "1 [-2, 1, -3, 4, -1, 2]\n",
      "2 [-2, 1, -3, 4, -1, 2, 1]\n",
      "-3 [-2, 1, -3, 4, -1, 2, 1, -5]\n",
      "1 [-2, 1, -3, 4, -1, 2, 1, -5, 4]\n",
      "1 [1]\n",
      "-2 [1, -3]\n",
      "2 [1, -3, 4]\n",
      "1 [1, -3, 4, -1]\n",
      "3 [1, -3, 4, -1, 2]\n",
      "4 [1, -3, 4, -1, 2, 1]\n",
      "-1 [1, -3, 4, -1, 2, 1, -5]\n",
      "3 [1, -3, 4, -1, 2, 1, -5, 4]\n",
      "-3 [-3]\n",
      "1 [-3, 4]\n",
      "0 [-3, 4, -1]\n",
      "2 [-3, 4, -1, 2]\n",
      "3 [-3, 4, -1, 2, 1]\n",
      "-2 [-3, 4, -1, 2, 1, -5]\n",
      "2 [-3, 4, -1, 2, 1, -5, 4]\n",
      "4 [4]\n",
      "3 [4, -1]\n",
      "5 [4, -1, 2]\n",
      "6 [4, -1, 2, 1]\n",
      "1 [4, -1, 2, 1, -5]\n",
      "5 [4, -1, 2, 1, -5, 4]\n",
      "-1 [-1]\n",
      "1 [-1, 2]\n",
      "2 [-1, 2, 1]\n",
      "-3 [-1, 2, 1, -5]\n",
      "1 [-1, 2, 1, -5, 4]\n",
      "2 [2]\n",
      "3 [2, 1]\n",
      "-2 [2, 1, -5]\n",
      "2 [2, 1, -5, 4]\n",
      "1 [1]\n",
      "-4 [1, -5]\n",
      "0 [1, -5, 4]\n",
      "-5 [-5]\n",
      "-1 [-5, 4]\n",
      "4 [4]\n"
     ]
    },
    {
     "data": {
      "text/plain": [
       "(6, (3, 6))"
      ]
     },
     "execution_count": 2,
     "metadata": {},
     "output_type": "execute_result"
    }
   ],
   "source": [
    "mylist = [-2,1,-3,4,-1,2,1,-5,4]  \n",
    "MaximumSubarray(mylist)"
   ]
  }
 ],
 "metadata": {
  "kernelspec": {
   "display_name": "Python 3",
   "language": "python",
   "name": "python3"
  },
  "language_info": {
   "codemirror_mode": {
    "name": "ipython",
    "version": 3
   },
   "file_extension": ".py",
   "mimetype": "text/x-python",
   "name": "python",
   "nbconvert_exporter": "python",
   "pygments_lexer": "ipython3",
   "version": "3.7.3"
  }
 },
 "nbformat": 4,
 "nbformat_minor": 2
}
